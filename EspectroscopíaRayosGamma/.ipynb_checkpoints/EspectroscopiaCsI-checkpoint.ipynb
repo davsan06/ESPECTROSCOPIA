{
 "cells": [
  {
   "cell_type": "code",
   "execution_count": 1,
   "metadata": {},
   "outputs": [],
   "source": [
    "import numpy as np\n",
    "import matplotlib.pyplot as plt\n",
    "import scipy as sci\n",
    "from astropy.io import ascii\n",
    "from astropy.table import Column\n",
    "from scipy import optimize"
   ]
  },
  {
   "cell_type": "markdown",
   "metadata": {},
   "source": [
    "-> Respuesta espectral del detector para una muestra monoenergética de rayos gamma. Obtener en primer lugar el espectro de fondo del laboratorio durante 5 minutos y, a continuación, el espectro de la muestra radiactiva de 137Cs durante 5 minutos. Para calibrar en energía el detector, utilizar el espectro de 22Na que se proporciona."
   ]
  },
  {
   "cell_type": "code",
   "execution_count": 2,
   "metadata": {},
   "outputs": [
    {
     "ename": "FileNotFoundError",
     "evalue": "[Errno 2] No such file or directory: '/home/davsan06/Documentos/PrácticasASTROPARTÍCULAS/Espectros15marzo/Nanoabsorbente.txt'",
     "output_type": "error",
     "traceback": [
      "\u001b[0;31m---------------------------------------------------------------------------\u001b[0m",
      "\u001b[0;31mFileNotFoundError\u001b[0m                         Traceback (most recent call last)",
      "\u001b[0;32m<ipython-input-2-83143923ea1a>\u001b[0m in \u001b[0;36m<module>\u001b[0;34m()\u001b[0m\n\u001b[0;32m----> 1\u001b[0;31m \u001b[0mespectro_sodio\u001b[0m \u001b[0;34m=\u001b[0m \u001b[0mascii\u001b[0m\u001b[0;34m.\u001b[0m\u001b[0mread\u001b[0m\u001b[0;34m(\u001b[0m\u001b[0;34m'/home/davsan06/Documentos/PrácticasASTROPARTÍCULAS/Espectros15marzo/Nanoabsorbente.txt'\u001b[0m\u001b[0;34m)\u001b[0m\u001b[0;34m\u001b[0m\u001b[0m\n\u001b[0m\u001b[1;32m      2\u001b[0m \u001b[0mbackground\u001b[0m \u001b[0;34m=\u001b[0m \u001b[0mascii\u001b[0m\u001b[0;34m.\u001b[0m\u001b[0mread\u001b[0m\u001b[0;34m(\u001b[0m\u001b[0;34m'/home/davsan06/Documentos/PrácticasASTROPARTÍCULAS/Espectros15marzo/Background.txt'\u001b[0m\u001b[0;34m)\u001b[0m\u001b[0;34m\u001b[0m\u001b[0m\n\u001b[1;32m      3\u001b[0m \u001b[0;34m\u001b[0m\u001b[0m\n\u001b[1;32m      4\u001b[0m \u001b[0mcanales\u001b[0m \u001b[0;34m=\u001b[0m \u001b[0mnp\u001b[0m\u001b[0;34m.\u001b[0m\u001b[0marange\u001b[0m\u001b[0;34m(\u001b[0m\u001b[0;36m0\u001b[0m\u001b[0;34m,\u001b[0m \u001b[0mlen\u001b[0m\u001b[0;34m(\u001b[0m\u001b[0mespectro_sodio\u001b[0m\u001b[0;34m)\u001b[0m\u001b[0;34m)\u001b[0m\u001b[0;34m\u001b[0m\u001b[0m\n\u001b[1;32m      5\u001b[0m \u001b[0;34m\u001b[0m\u001b[0m\n",
      "\u001b[0;32m~/anaconda3/lib/python3.7/site-packages/astropy/io/ascii/ui.py\u001b[0m in \u001b[0;36mread\u001b[0;34m(table, guess, **kwargs)\u001b[0m\n\u001b[1;32m    349\u001b[0m         \u001b[0;31m# through below to the non-guess way so that any problems result in a\u001b[0m\u001b[0;34m\u001b[0m\u001b[0;34m\u001b[0m\u001b[0m\n\u001b[1;32m    350\u001b[0m         \u001b[0;31m# more useful traceback.\u001b[0m\u001b[0;34m\u001b[0m\u001b[0;34m\u001b[0m\u001b[0m\n\u001b[0;32m--> 351\u001b[0;31m         \u001b[0mdat\u001b[0m \u001b[0;34m=\u001b[0m \u001b[0m_guess\u001b[0m\u001b[0;34m(\u001b[0m\u001b[0mtable\u001b[0m\u001b[0;34m,\u001b[0m \u001b[0mnew_kwargs\u001b[0m\u001b[0;34m,\u001b[0m \u001b[0mformat\u001b[0m\u001b[0;34m,\u001b[0m \u001b[0mfast_reader\u001b[0m\u001b[0;34m)\u001b[0m\u001b[0;34m\u001b[0m\u001b[0m\n\u001b[0m\u001b[1;32m    352\u001b[0m         \u001b[0;32mif\u001b[0m \u001b[0mdat\u001b[0m \u001b[0;32mis\u001b[0m \u001b[0;32mNone\u001b[0m\u001b[0;34m:\u001b[0m\u001b[0;34m\u001b[0m\u001b[0m\n\u001b[1;32m    353\u001b[0m             \u001b[0mguess\u001b[0m \u001b[0;34m=\u001b[0m \u001b[0;32mFalse\u001b[0m\u001b[0;34m\u001b[0m\u001b[0m\n",
      "\u001b[0;32m~/anaconda3/lib/python3.7/site-packages/astropy/io/ascii/ui.py\u001b[0m in \u001b[0;36m_guess\u001b[0;34m(table, read_kwargs, format, fast_reader)\u001b[0m\n\u001b[1;32m    495\u001b[0m             \u001b[0mreader\u001b[0m \u001b[0;34m=\u001b[0m \u001b[0mget_reader\u001b[0m\u001b[0;34m(\u001b[0m\u001b[0;34m**\u001b[0m\u001b[0mguess_kwargs\u001b[0m\u001b[0;34m)\u001b[0m\u001b[0;34m\u001b[0m\u001b[0m\n\u001b[1;32m    496\u001b[0m             \u001b[0mreader\u001b[0m\u001b[0;34m.\u001b[0m\u001b[0mguessing\u001b[0m \u001b[0;34m=\u001b[0m \u001b[0;32mTrue\u001b[0m\u001b[0;34m\u001b[0m\u001b[0m\n\u001b[0;32m--> 497\u001b[0;31m             \u001b[0mdat\u001b[0m \u001b[0;34m=\u001b[0m \u001b[0mreader\u001b[0m\u001b[0;34m.\u001b[0m\u001b[0mread\u001b[0m\u001b[0;34m(\u001b[0m\u001b[0mtable\u001b[0m\u001b[0;34m)\u001b[0m\u001b[0;34m\u001b[0m\u001b[0m\n\u001b[0m\u001b[1;32m    498\u001b[0m             _read_trace.append({'kwargs': guess_kwargs,\n\u001b[1;32m    499\u001b[0m                                 \u001b[0;34m'Reader'\u001b[0m\u001b[0;34m:\u001b[0m \u001b[0mreader\u001b[0m\u001b[0;34m.\u001b[0m\u001b[0m__class__\u001b[0m\u001b[0;34m,\u001b[0m\u001b[0;34m\u001b[0m\u001b[0m\n",
      "\u001b[0;32m~/anaconda3/lib/python3.7/site-packages/astropy/io/ascii/core.py\u001b[0m in \u001b[0;36mread\u001b[0;34m(self, table)\u001b[0m\n\u001b[1;32m   1144\u001b[0m \u001b[0;34m\u001b[0m\u001b[0m\n\u001b[1;32m   1145\u001b[0m         \u001b[0;31m# Get a list of the lines (rows) in the table\u001b[0m\u001b[0;34m\u001b[0m\u001b[0;34m\u001b[0m\u001b[0m\n\u001b[0;32m-> 1146\u001b[0;31m         \u001b[0mself\u001b[0m\u001b[0;34m.\u001b[0m\u001b[0mlines\u001b[0m \u001b[0;34m=\u001b[0m \u001b[0mself\u001b[0m\u001b[0;34m.\u001b[0m\u001b[0minputter\u001b[0m\u001b[0;34m.\u001b[0m\u001b[0mget_lines\u001b[0m\u001b[0;34m(\u001b[0m\u001b[0mtable\u001b[0m\u001b[0;34m)\u001b[0m\u001b[0;34m\u001b[0m\u001b[0m\n\u001b[0m\u001b[1;32m   1147\u001b[0m \u001b[0;34m\u001b[0m\u001b[0m\n\u001b[1;32m   1148\u001b[0m         \u001b[0;31m# Set self.data.data_lines to a slice of lines contain the data rows\u001b[0m\u001b[0;34m\u001b[0m\u001b[0;34m\u001b[0m\u001b[0m\n",
      "\u001b[0;32m~/anaconda3/lib/python3.7/site-packages/astropy/io/ascii/core.py\u001b[0m in \u001b[0;36mget_lines\u001b[0;34m(self, table)\u001b[0m\n\u001b[1;32m    291\u001b[0m                     ('\\n' not in table + '' and '\\r' not in table + '')):\n\u001b[1;32m    292\u001b[0m                 with get_readable_fileobj(table,\n\u001b[0;32m--> 293\u001b[0;31m                                           encoding=self.encoding) as fileobj:\n\u001b[0m\u001b[1;32m    294\u001b[0m                     \u001b[0mtable\u001b[0m \u001b[0;34m=\u001b[0m \u001b[0mfileobj\u001b[0m\u001b[0;34m.\u001b[0m\u001b[0mread\u001b[0m\u001b[0;34m(\u001b[0m\u001b[0;34m)\u001b[0m\u001b[0;34m\u001b[0m\u001b[0m\n\u001b[1;32m    295\u001b[0m             \u001b[0mlines\u001b[0m \u001b[0;34m=\u001b[0m \u001b[0mtable\u001b[0m\u001b[0;34m.\u001b[0m\u001b[0msplitlines\u001b[0m\u001b[0;34m(\u001b[0m\u001b[0;34m)\u001b[0m\u001b[0;34m\u001b[0m\u001b[0m\n",
      "\u001b[0;32m~/anaconda3/lib/python3.7/contextlib.py\u001b[0m in \u001b[0;36m__enter__\u001b[0;34m(self)\u001b[0m\n\u001b[1;32m    110\u001b[0m         \u001b[0;32mdel\u001b[0m \u001b[0mself\u001b[0m\u001b[0;34m.\u001b[0m\u001b[0margs\u001b[0m\u001b[0;34m,\u001b[0m \u001b[0mself\u001b[0m\u001b[0;34m.\u001b[0m\u001b[0mkwds\u001b[0m\u001b[0;34m,\u001b[0m \u001b[0mself\u001b[0m\u001b[0;34m.\u001b[0m\u001b[0mfunc\u001b[0m\u001b[0;34m\u001b[0m\u001b[0m\n\u001b[1;32m    111\u001b[0m         \u001b[0;32mtry\u001b[0m\u001b[0;34m:\u001b[0m\u001b[0;34m\u001b[0m\u001b[0m\n\u001b[0;32m--> 112\u001b[0;31m             \u001b[0;32mreturn\u001b[0m \u001b[0mnext\u001b[0m\u001b[0;34m(\u001b[0m\u001b[0mself\u001b[0m\u001b[0;34m.\u001b[0m\u001b[0mgen\u001b[0m\u001b[0;34m)\u001b[0m\u001b[0;34m\u001b[0m\u001b[0m\n\u001b[0m\u001b[1;32m    113\u001b[0m         \u001b[0;32mexcept\u001b[0m \u001b[0mStopIteration\u001b[0m\u001b[0;34m:\u001b[0m\u001b[0;34m\u001b[0m\u001b[0m\n\u001b[1;32m    114\u001b[0m             \u001b[0;32mraise\u001b[0m \u001b[0mRuntimeError\u001b[0m\u001b[0;34m(\u001b[0m\u001b[0;34m\"generator didn't yield\"\u001b[0m\u001b[0;34m)\u001b[0m \u001b[0;32mfrom\u001b[0m \u001b[0;32mNone\u001b[0m\u001b[0;34m\u001b[0m\u001b[0m\n",
      "\u001b[0;32m~/anaconda3/lib/python3.7/site-packages/astropy/utils/data.py\u001b[0m in \u001b[0;36mget_readable_fileobj\u001b[0;34m(name_or_obj, encoding, cache, show_progress, remote_timeout)\u001b[0m\n\u001b[1;32m    191\u001b[0m                 \u001b[0mname_or_obj\u001b[0m\u001b[0;34m,\u001b[0m \u001b[0mcache\u001b[0m\u001b[0;34m=\u001b[0m\u001b[0mcache\u001b[0m\u001b[0;34m,\u001b[0m \u001b[0mshow_progress\u001b[0m\u001b[0;34m=\u001b[0m\u001b[0mshow_progress\u001b[0m\u001b[0;34m,\u001b[0m\u001b[0;34m\u001b[0m\u001b[0m\n\u001b[1;32m    192\u001b[0m                 timeout=remote_timeout)\n\u001b[0;32m--> 193\u001b[0;31m         \u001b[0mfileobj\u001b[0m \u001b[0;34m=\u001b[0m \u001b[0mio\u001b[0m\u001b[0;34m.\u001b[0m\u001b[0mFileIO\u001b[0m\u001b[0;34m(\u001b[0m\u001b[0mname_or_obj\u001b[0m\u001b[0;34m,\u001b[0m \u001b[0;34m'r'\u001b[0m\u001b[0;34m)\u001b[0m\u001b[0;34m\u001b[0m\u001b[0m\n\u001b[0m\u001b[1;32m    194\u001b[0m         \u001b[0;32mif\u001b[0m \u001b[0mis_url\u001b[0m \u001b[0;32mand\u001b[0m \u001b[0;32mnot\u001b[0m \u001b[0mcache\u001b[0m\u001b[0;34m:\u001b[0m\u001b[0;34m\u001b[0m\u001b[0m\n\u001b[1;32m    195\u001b[0m             \u001b[0mdelete_fds\u001b[0m\u001b[0;34m.\u001b[0m\u001b[0mappend\u001b[0m\u001b[0;34m(\u001b[0m\u001b[0mfileobj\u001b[0m\u001b[0;34m)\u001b[0m\u001b[0;34m\u001b[0m\u001b[0m\n",
      "\u001b[0;31mFileNotFoundError\u001b[0m: [Errno 2] No such file or directory: '/home/davsan06/Documentos/PrácticasASTROPARTÍCULAS/Espectros15marzo/Nanoabsorbente.txt'"
     ]
    }
   ],
   "source": [
    "espectro_sodio = ascii.read('/home/davsan06/Documentos/PrácticasASTROPARTÍCULAS/Espectros15marzo/Nanoabsorbente.txt')\n",
    "background = ascii.read('/home/davsan06/Documentos/PrácticasASTROPARTÍCULAS/Espectros15marzo/Background.txt')\n",
    "\n",
    "canales = np.arange(0, len(espectro_sodio))\n",
    "\n",
    "#Corregimos el espectro de sodio restándole el ruido de fondo\n",
    "\n",
    "espectro_sodio = espectro_sodio['0'] - background['0']"
   ]
  },
  {
   "cell_type": "code",
   "execution_count": 3,
   "metadata": {},
   "outputs": [],
   "source": [
    "#Cargamos la función con la que vamos a ajustar los datos con una gaussiana\n",
    "\n",
    "def test_func(x, a, mu, sigma):\n",
    "    return a * np.exp(-1/(2*sigma**2)*(x-mu)**2)"
   ]
  },
  {
   "cell_type": "code",
   "execution_count": 4,
   "metadata": {},
   "outputs": [
    {
     "ename": "NameError",
     "evalue": "name 'canales' is not defined",
     "output_type": "error",
     "traceback": [
      "\u001b[0;31m---------------------------------------------------------------------------\u001b[0m",
      "\u001b[0;31mNameError\u001b[0m                                 Traceback (most recent call last)",
      "\u001b[0;32m<ipython-input-4-0e306fa046f8>\u001b[0m in \u001b[0;36m<module>\u001b[0;34m()\u001b[0m\n\u001b[1;32m      2\u001b[0m \u001b[0;31m#causada por la aniquilación de pares con energía conocida de 511 keV\u001b[0m\u001b[0;34m\u001b[0m\u001b[0;34m\u001b[0m\u001b[0m\n\u001b[1;32m      3\u001b[0m \u001b[0;34m\u001b[0m\u001b[0m\n\u001b[0;32m----> 4\u001b[0;31m \u001b[0mplt\u001b[0m\u001b[0;34m.\u001b[0m\u001b[0mplot\u001b[0m\u001b[0;34m(\u001b[0m\u001b[0mcanales\u001b[0m\u001b[0;34m,\u001b[0m \u001b[0mespectro_sodio\u001b[0m\u001b[0;34m)\u001b[0m\u001b[0;34m\u001b[0m\u001b[0m\n\u001b[0m\u001b[1;32m      5\u001b[0m \u001b[0mplt\u001b[0m\u001b[0;34m.\u001b[0m\u001b[0mplot\u001b[0m\u001b[0;34m(\u001b[0m\u001b[0mcanales\u001b[0m\u001b[0;34m[\u001b[0m\u001b[0;36m64\u001b[0m\u001b[0;34m:\u001b[0m\u001b[0;36m85\u001b[0m\u001b[0;34m]\u001b[0m\u001b[0;34m,\u001b[0m \u001b[0mespectro_sodio\u001b[0m\u001b[0;34m[\u001b[0m\u001b[0;36m64\u001b[0m\u001b[0;34m:\u001b[0m\u001b[0;36m85\u001b[0m\u001b[0;34m]\u001b[0m\u001b[0;34m)\u001b[0m\u001b[0;34m\u001b[0m\u001b[0m\n\u001b[1;32m      6\u001b[0m \u001b[0mplt\u001b[0m\u001b[0;34m.\u001b[0m\u001b[0mxlim\u001b[0m\u001b[0;34m(\u001b[0m\u001b[0;36m0\u001b[0m\u001b[0;34m,\u001b[0m\u001b[0;36m300\u001b[0m\u001b[0;34m)\u001b[0m\u001b[0;34m\u001b[0m\u001b[0m\n",
      "\u001b[0;31mNameError\u001b[0m: name 'canales' is not defined"
     ]
    }
   ],
   "source": [
    "#Procedemos a la calibración canales-energías sabiendo que en el espectro de sodio encontraremos un pico en energías\n",
    "#causada por la aniquilación de pares con energía conocida de 511 keV\n",
    "\n",
    "plt.plot(canales, espectro_sodio)\n",
    "plt.plot(canales[64:85], espectro_sodio[64:85])\n",
    "plt.xlim(0,300)\n",
    "\n",
    "#Hacemos la llamada a la función para el ajuste a la gaussiana en el intervalo buscado\n",
    "\n",
    "params, params_covariance = optimize.curve_fit(test_func,canales[64:85] , espectro_sodio[64:85], p0=[70, 75, 10])\n",
    "\n",
    "a, mu, sigma = params\n",
    "\n",
    "plt.axvline(mu, alpha = 0.5, linestyle='--', color = 'red')\n",
    "plt.axvspan(mu-sigma,mu, alpha = 0.3, color = 'green' )\n",
    "plt.axvspan(mu,mu+sigma, alpha = 0.3, color = 'green' )\n",
    "print(mu)"
   ]
  },
  {
   "cell_type": "code",
   "execution_count": 5,
   "metadata": {},
   "outputs": [
    {
     "ename": "NameError",
     "evalue": "name 'mu' is not defined",
     "output_type": "error",
     "traceback": [
      "\u001b[0;31m---------------------------------------------------------------------------\u001b[0m",
      "\u001b[0;31mNameError\u001b[0m                                 Traceback (most recent call last)",
      "\u001b[0;32m<ipython-input-5-821beb81cf1f>\u001b[0m in \u001b[0;36m<module>\u001b[0;34m()\u001b[0m\n\u001b[1;32m      1\u001b[0m \u001b[0;31m#Calibración lineal de las energías en kiloelectronvoltios\u001b[0m\u001b[0;34m\u001b[0m\u001b[0;34m\u001b[0m\u001b[0m\n\u001b[1;32m      2\u001b[0m \u001b[0;34m\u001b[0m\u001b[0m\n\u001b[0;32m----> 3\u001b[0;31m \u001b[0menergias\u001b[0m \u001b[0;34m=\u001b[0m \u001b[0;36m511\u001b[0m\u001b[0;34m/\u001b[0m\u001b[0mmu\u001b[0m\u001b[0;34m*\u001b[0m\u001b[0mcanales\u001b[0m\u001b[0;34m\u001b[0m\u001b[0m\n\u001b[0m",
      "\u001b[0;31mNameError\u001b[0m: name 'mu' is not defined"
     ]
    }
   ],
   "source": [
    "#Calibración lineal de las energías en kiloelectronvoltios\n",
    "\n",
    "energias = 511/mu*canales"
   ]
  },
  {
   "cell_type": "code",
   "execution_count": 6,
   "metadata": {},
   "outputs": [
    {
     "ename": "NameError",
     "evalue": "name 'energias' is not defined",
     "output_type": "error",
     "traceback": [
      "\u001b[0;31m---------------------------------------------------------------------------\u001b[0m",
      "\u001b[0;31mNameError\u001b[0m                                 Traceback (most recent call last)",
      "\u001b[0;32m<ipython-input-6-546462708d77>\u001b[0m in \u001b[0;36m<module>\u001b[0;34m()\u001b[0m\n\u001b[1;32m      2\u001b[0m \u001b[0;31m#cae en 511 keV\u001b[0m\u001b[0;34m\u001b[0m\u001b[0;34m\u001b[0m\u001b[0m\n\u001b[1;32m      3\u001b[0m \u001b[0;34m\u001b[0m\u001b[0m\n\u001b[0;32m----> 4\u001b[0;31m \u001b[0mplt\u001b[0m\u001b[0;34m.\u001b[0m\u001b[0mplot\u001b[0m\u001b[0;34m(\u001b[0m\u001b[0menergias\u001b[0m\u001b[0;34m,\u001b[0m \u001b[0mespectro_sodio\u001b[0m\u001b[0;34m,\u001b[0m \u001b[0mlabel\u001b[0m \u001b[0;34m=\u001b[0m \u001b[0;34m'Espectro'\u001b[0m\u001b[0;34m)\u001b[0m\u001b[0;34m\u001b[0m\u001b[0m\n\u001b[0m\u001b[1;32m      5\u001b[0m \u001b[0mplt\u001b[0m\u001b[0;34m.\u001b[0m\u001b[0mplot\u001b[0m\u001b[0;34m(\u001b[0m\u001b[0menergias\u001b[0m\u001b[0;34m[\u001b[0m\u001b[0;36m64\u001b[0m\u001b[0;34m:\u001b[0m\u001b[0;36m85\u001b[0m\u001b[0;34m]\u001b[0m\u001b[0;34m,\u001b[0m \u001b[0mespectro_sodio\u001b[0m\u001b[0;34m[\u001b[0m\u001b[0;36m64\u001b[0m\u001b[0;34m:\u001b[0m\u001b[0;36m85\u001b[0m\u001b[0;34m]\u001b[0m\u001b[0;34m,\u001b[0m \u001b[0mlabel\u001b[0m\u001b[0;34m=\u001b[0m\u001b[0;34m'Intervalo ajustado'\u001b[0m\u001b[0;34m)\u001b[0m\u001b[0;34m\u001b[0m\u001b[0m\n\u001b[1;32m      6\u001b[0m \u001b[0mplt\u001b[0m\u001b[0;34m.\u001b[0m\u001b[0mxlim\u001b[0m\u001b[0;34m(\u001b[0m\u001b[0;36m0\u001b[0m\u001b[0;34m,\u001b[0m \u001b[0;36m1500\u001b[0m\u001b[0;34m)\u001b[0m\u001b[0;34m\u001b[0m\u001b[0m\n",
      "\u001b[0;31mNameError\u001b[0m: name 'energias' is not defined"
     ]
    }
   ],
   "source": [
    "#Comprobamos la calibración estudiando que la media de la gaussiana del fotopico en el espectro de energías\n",
    "#cae en 511 keV\n",
    "\n",
    "plt.plot(energias, espectro_sodio, label = 'Espectro')\n",
    "plt.plot(energias[64:85], espectro_sodio[64:85], label='Intervalo ajustado')\n",
    "plt.xlim(0, 1500)\n",
    "\n",
    "params, params_covariance = optimize.curve_fit(test_func,energias[64:85] , espectro_sodio[64:85], p0=[60, 500, 10])\n",
    "\n",
    "a, mu, sigma = params\n",
    "\n",
    "plt.axvline(mu, alpha = 0.5, linestyle='--', color = 'red', label = 'Media = {:.2f} keV'.format(mu))\n",
    "plt.axvspan(mu-sigma,mu, alpha = 0.3, color = 'green', label = 'Varianza = {:.2f}'.format(sigma))\n",
    "plt.axvspan(mu,mu+sigma, alpha = 0.3, color = 'green' )\n",
    "plt.legend()\n",
    "plt.title('Espectro de Na-22 \\n')\n",
    "plt.xlabel('Energías en keV')\n",
    "\n",
    "print('La energía del pico de aniquilación de pares cae en {:.2f} keV'.format(mu))\n",
    "plt.savefig('EspectroSodioCalibrado')"
   ]
  },
  {
   "cell_type": "markdown",
   "metadata": {},
   "source": [
    "x Estudiar la forma del fotopico. Comprobar que su energía es de 662 keV y que se ajusta a una gaussiana. Hallar la resolución en energía del espectrómetro (en tanto por ciento, Delta(E)/E) para este pico."
   ]
  },
  {
   "cell_type": "code",
   "execution_count": 7,
   "metadata": {},
   "outputs": [
    {
     "ename": "FileNotFoundError",
     "evalue": "[Errno 2] No such file or directory: '/home/davsan06/Documentos/PrácticasASTROPARTÍCULAS/Espectros15marzo/Csnoabsorbente.txt'",
     "output_type": "error",
     "traceback": [
      "\u001b[0;31m---------------------------------------------------------------------------\u001b[0m",
      "\u001b[0;31mFileNotFoundError\u001b[0m                         Traceback (most recent call last)",
      "\u001b[0;32m<ipython-input-7-4fed19d244da>\u001b[0m in \u001b[0;36m<module>\u001b[0;34m()\u001b[0m\n\u001b[1;32m      1\u001b[0m \u001b[0;31m#Cargamos el espectro de cesio (con 0 mm absorbente) y le restamos el ruido\u001b[0m\u001b[0;34m\u001b[0m\u001b[0;34m\u001b[0m\u001b[0m\n\u001b[1;32m      2\u001b[0m \u001b[0;34m\u001b[0m\u001b[0m\n\u001b[0;32m----> 3\u001b[0;31m \u001b[0mespectro_Cesio0mmAl\u001b[0m \u001b[0;34m=\u001b[0m \u001b[0mascii\u001b[0m\u001b[0;34m.\u001b[0m\u001b[0mread\u001b[0m\u001b[0;34m(\u001b[0m\u001b[0;34m'/home/davsan06/Documentos/PrácticasASTROPARTÍCULAS/Espectros15marzo/Csnoabsorbente.txt'\u001b[0m\u001b[0;34m)\u001b[0m\u001b[0;34m\u001b[0m\u001b[0m\n\u001b[0m\u001b[1;32m      4\u001b[0m \u001b[0;34m\u001b[0m\u001b[0m\n\u001b[1;32m      5\u001b[0m \u001b[0mespectro_Cesio0mmAl\u001b[0m \u001b[0;34m=\u001b[0m \u001b[0mespectro_Cesio0mmAl\u001b[0m\u001b[0;34m[\u001b[0m\u001b[0;34m'0'\u001b[0m\u001b[0;34m]\u001b[0m \u001b[0;34m-\u001b[0m \u001b[0mbackground\u001b[0m\u001b[0;34m[\u001b[0m\u001b[0;34m'0'\u001b[0m\u001b[0;34m]\u001b[0m\u001b[0;34m\u001b[0m\u001b[0m\n",
      "\u001b[0;32m~/anaconda3/lib/python3.7/site-packages/astropy/io/ascii/ui.py\u001b[0m in \u001b[0;36mread\u001b[0;34m(table, guess, **kwargs)\u001b[0m\n\u001b[1;32m    349\u001b[0m         \u001b[0;31m# through below to the non-guess way so that any problems result in a\u001b[0m\u001b[0;34m\u001b[0m\u001b[0;34m\u001b[0m\u001b[0m\n\u001b[1;32m    350\u001b[0m         \u001b[0;31m# more useful traceback.\u001b[0m\u001b[0;34m\u001b[0m\u001b[0;34m\u001b[0m\u001b[0m\n\u001b[0;32m--> 351\u001b[0;31m         \u001b[0mdat\u001b[0m \u001b[0;34m=\u001b[0m \u001b[0m_guess\u001b[0m\u001b[0;34m(\u001b[0m\u001b[0mtable\u001b[0m\u001b[0;34m,\u001b[0m \u001b[0mnew_kwargs\u001b[0m\u001b[0;34m,\u001b[0m \u001b[0mformat\u001b[0m\u001b[0;34m,\u001b[0m \u001b[0mfast_reader\u001b[0m\u001b[0;34m)\u001b[0m\u001b[0;34m\u001b[0m\u001b[0m\n\u001b[0m\u001b[1;32m    352\u001b[0m         \u001b[0;32mif\u001b[0m \u001b[0mdat\u001b[0m \u001b[0;32mis\u001b[0m \u001b[0;32mNone\u001b[0m\u001b[0;34m:\u001b[0m\u001b[0;34m\u001b[0m\u001b[0m\n\u001b[1;32m    353\u001b[0m             \u001b[0mguess\u001b[0m \u001b[0;34m=\u001b[0m \u001b[0;32mFalse\u001b[0m\u001b[0;34m\u001b[0m\u001b[0m\n",
      "\u001b[0;32m~/anaconda3/lib/python3.7/site-packages/astropy/io/ascii/ui.py\u001b[0m in \u001b[0;36m_guess\u001b[0;34m(table, read_kwargs, format, fast_reader)\u001b[0m\n\u001b[1;32m    495\u001b[0m             \u001b[0mreader\u001b[0m \u001b[0;34m=\u001b[0m \u001b[0mget_reader\u001b[0m\u001b[0;34m(\u001b[0m\u001b[0;34m**\u001b[0m\u001b[0mguess_kwargs\u001b[0m\u001b[0;34m)\u001b[0m\u001b[0;34m\u001b[0m\u001b[0m\n\u001b[1;32m    496\u001b[0m             \u001b[0mreader\u001b[0m\u001b[0;34m.\u001b[0m\u001b[0mguessing\u001b[0m \u001b[0;34m=\u001b[0m \u001b[0;32mTrue\u001b[0m\u001b[0;34m\u001b[0m\u001b[0m\n\u001b[0;32m--> 497\u001b[0;31m             \u001b[0mdat\u001b[0m \u001b[0;34m=\u001b[0m \u001b[0mreader\u001b[0m\u001b[0;34m.\u001b[0m\u001b[0mread\u001b[0m\u001b[0;34m(\u001b[0m\u001b[0mtable\u001b[0m\u001b[0;34m)\u001b[0m\u001b[0;34m\u001b[0m\u001b[0m\n\u001b[0m\u001b[1;32m    498\u001b[0m             _read_trace.append({'kwargs': guess_kwargs,\n\u001b[1;32m    499\u001b[0m                                 \u001b[0;34m'Reader'\u001b[0m\u001b[0;34m:\u001b[0m \u001b[0mreader\u001b[0m\u001b[0;34m.\u001b[0m\u001b[0m__class__\u001b[0m\u001b[0;34m,\u001b[0m\u001b[0;34m\u001b[0m\u001b[0m\n",
      "\u001b[0;32m~/anaconda3/lib/python3.7/site-packages/astropy/io/ascii/core.py\u001b[0m in \u001b[0;36mread\u001b[0;34m(self, table)\u001b[0m\n\u001b[1;32m   1144\u001b[0m \u001b[0;34m\u001b[0m\u001b[0m\n\u001b[1;32m   1145\u001b[0m         \u001b[0;31m# Get a list of the lines (rows) in the table\u001b[0m\u001b[0;34m\u001b[0m\u001b[0;34m\u001b[0m\u001b[0m\n\u001b[0;32m-> 1146\u001b[0;31m         \u001b[0mself\u001b[0m\u001b[0;34m.\u001b[0m\u001b[0mlines\u001b[0m \u001b[0;34m=\u001b[0m \u001b[0mself\u001b[0m\u001b[0;34m.\u001b[0m\u001b[0minputter\u001b[0m\u001b[0;34m.\u001b[0m\u001b[0mget_lines\u001b[0m\u001b[0;34m(\u001b[0m\u001b[0mtable\u001b[0m\u001b[0;34m)\u001b[0m\u001b[0;34m\u001b[0m\u001b[0m\n\u001b[0m\u001b[1;32m   1147\u001b[0m \u001b[0;34m\u001b[0m\u001b[0m\n\u001b[1;32m   1148\u001b[0m         \u001b[0;31m# Set self.data.data_lines to a slice of lines contain the data rows\u001b[0m\u001b[0;34m\u001b[0m\u001b[0;34m\u001b[0m\u001b[0m\n",
      "\u001b[0;32m~/anaconda3/lib/python3.7/site-packages/astropy/io/ascii/core.py\u001b[0m in \u001b[0;36mget_lines\u001b[0;34m(self, table)\u001b[0m\n\u001b[1;32m    291\u001b[0m                     ('\\n' not in table + '' and '\\r' not in table + '')):\n\u001b[1;32m    292\u001b[0m                 with get_readable_fileobj(table,\n\u001b[0;32m--> 293\u001b[0;31m                                           encoding=self.encoding) as fileobj:\n\u001b[0m\u001b[1;32m    294\u001b[0m                     \u001b[0mtable\u001b[0m \u001b[0;34m=\u001b[0m \u001b[0mfileobj\u001b[0m\u001b[0;34m.\u001b[0m\u001b[0mread\u001b[0m\u001b[0;34m(\u001b[0m\u001b[0;34m)\u001b[0m\u001b[0;34m\u001b[0m\u001b[0m\n\u001b[1;32m    295\u001b[0m             \u001b[0mlines\u001b[0m \u001b[0;34m=\u001b[0m \u001b[0mtable\u001b[0m\u001b[0;34m.\u001b[0m\u001b[0msplitlines\u001b[0m\u001b[0;34m(\u001b[0m\u001b[0;34m)\u001b[0m\u001b[0;34m\u001b[0m\u001b[0m\n",
      "\u001b[0;32m~/anaconda3/lib/python3.7/contextlib.py\u001b[0m in \u001b[0;36m__enter__\u001b[0;34m(self)\u001b[0m\n\u001b[1;32m    110\u001b[0m         \u001b[0;32mdel\u001b[0m \u001b[0mself\u001b[0m\u001b[0;34m.\u001b[0m\u001b[0margs\u001b[0m\u001b[0;34m,\u001b[0m \u001b[0mself\u001b[0m\u001b[0;34m.\u001b[0m\u001b[0mkwds\u001b[0m\u001b[0;34m,\u001b[0m \u001b[0mself\u001b[0m\u001b[0;34m.\u001b[0m\u001b[0mfunc\u001b[0m\u001b[0;34m\u001b[0m\u001b[0m\n\u001b[1;32m    111\u001b[0m         \u001b[0;32mtry\u001b[0m\u001b[0;34m:\u001b[0m\u001b[0;34m\u001b[0m\u001b[0m\n\u001b[0;32m--> 112\u001b[0;31m             \u001b[0;32mreturn\u001b[0m \u001b[0mnext\u001b[0m\u001b[0;34m(\u001b[0m\u001b[0mself\u001b[0m\u001b[0;34m.\u001b[0m\u001b[0mgen\u001b[0m\u001b[0;34m)\u001b[0m\u001b[0;34m\u001b[0m\u001b[0m\n\u001b[0m\u001b[1;32m    113\u001b[0m         \u001b[0;32mexcept\u001b[0m \u001b[0mStopIteration\u001b[0m\u001b[0;34m:\u001b[0m\u001b[0;34m\u001b[0m\u001b[0m\n\u001b[1;32m    114\u001b[0m             \u001b[0;32mraise\u001b[0m \u001b[0mRuntimeError\u001b[0m\u001b[0;34m(\u001b[0m\u001b[0;34m\"generator didn't yield\"\u001b[0m\u001b[0;34m)\u001b[0m \u001b[0;32mfrom\u001b[0m \u001b[0;32mNone\u001b[0m\u001b[0;34m\u001b[0m\u001b[0m\n",
      "\u001b[0;32m~/anaconda3/lib/python3.7/site-packages/astropy/utils/data.py\u001b[0m in \u001b[0;36mget_readable_fileobj\u001b[0;34m(name_or_obj, encoding, cache, show_progress, remote_timeout)\u001b[0m\n\u001b[1;32m    191\u001b[0m                 \u001b[0mname_or_obj\u001b[0m\u001b[0;34m,\u001b[0m \u001b[0mcache\u001b[0m\u001b[0;34m=\u001b[0m\u001b[0mcache\u001b[0m\u001b[0;34m,\u001b[0m \u001b[0mshow_progress\u001b[0m\u001b[0;34m=\u001b[0m\u001b[0mshow_progress\u001b[0m\u001b[0;34m,\u001b[0m\u001b[0;34m\u001b[0m\u001b[0m\n\u001b[1;32m    192\u001b[0m                 timeout=remote_timeout)\n\u001b[0;32m--> 193\u001b[0;31m         \u001b[0mfileobj\u001b[0m \u001b[0;34m=\u001b[0m \u001b[0mio\u001b[0m\u001b[0;34m.\u001b[0m\u001b[0mFileIO\u001b[0m\u001b[0;34m(\u001b[0m\u001b[0mname_or_obj\u001b[0m\u001b[0;34m,\u001b[0m \u001b[0;34m'r'\u001b[0m\u001b[0;34m)\u001b[0m\u001b[0;34m\u001b[0m\u001b[0m\n\u001b[0m\u001b[1;32m    194\u001b[0m         \u001b[0;32mif\u001b[0m \u001b[0mis_url\u001b[0m \u001b[0;32mand\u001b[0m \u001b[0;32mnot\u001b[0m \u001b[0mcache\u001b[0m\u001b[0;34m:\u001b[0m\u001b[0;34m\u001b[0m\u001b[0m\n\u001b[1;32m    195\u001b[0m             \u001b[0mdelete_fds\u001b[0m\u001b[0;34m.\u001b[0m\u001b[0mappend\u001b[0m\u001b[0;34m(\u001b[0m\u001b[0mfileobj\u001b[0m\u001b[0;34m)\u001b[0m\u001b[0;34m\u001b[0m\u001b[0m\n",
      "\u001b[0;31mFileNotFoundError\u001b[0m: [Errno 2] No such file or directory: '/home/davsan06/Documentos/PrácticasASTROPARTÍCULAS/Espectros15marzo/Csnoabsorbente.txt'"
     ]
    }
   ],
   "source": [
    "#Cargamos el espectro de cesio (con 0 mm absorbente) y le restamos el ruido\n",
    "\n",
    "espectro_Cesio0mmAl = ascii.read('/home/davsan06/Documentos/PrácticasASTROPARTÍCULAS/Espectros15marzo/Csnoabsorbente.txt')\n",
    "\n",
    "espectro_Cesio0mmAl = espectro_Cesio0mmAl['0'] - background['0']"
   ]
  },
  {
   "cell_type": "code",
   "execution_count": 8,
   "metadata": {},
   "outputs": [
    {
     "ename": "NameError",
     "evalue": "name 'energias' is not defined",
     "output_type": "error",
     "traceback": [
      "\u001b[0;31m---------------------------------------------------------------------------\u001b[0m",
      "\u001b[0;31mNameError\u001b[0m                                 Traceback (most recent call last)",
      "\u001b[0;32m<ipython-input-8-43558253c6f4>\u001b[0m in \u001b[0;36m<module>\u001b[0;34m()\u001b[0m\n\u001b[1;32m      3\u001b[0m \u001b[0mplt\u001b[0m\u001b[0;34m.\u001b[0m\u001b[0mfigure\u001b[0m\u001b[0;34m(\u001b[0m\u001b[0;34m)\u001b[0m\u001b[0;34m\u001b[0m\u001b[0m\n\u001b[1;32m      4\u001b[0m \u001b[0;34m\u001b[0m\u001b[0m\n\u001b[0;32m----> 5\u001b[0;31m \u001b[0mplt\u001b[0m\u001b[0;34m.\u001b[0m\u001b[0mplot\u001b[0m\u001b[0;34m(\u001b[0m\u001b[0menergias\u001b[0m\u001b[0;34m,\u001b[0m \u001b[0mespectro_Cesio0mmAl\u001b[0m\u001b[0;34m,\u001b[0m \u001b[0mlabel\u001b[0m \u001b[0;34m=\u001b[0m \u001b[0;34m'Espectro'\u001b[0m\u001b[0;34m)\u001b[0m\u001b[0;34m\u001b[0m\u001b[0m\n\u001b[0m\u001b[1;32m      6\u001b[0m \u001b[0mplt\u001b[0m\u001b[0;34m.\u001b[0m\u001b[0mxlim\u001b[0m\u001b[0;34m(\u001b[0m\u001b[0;36m0\u001b[0m\u001b[0;34m,\u001b[0m\u001b[0;36m1500\u001b[0m\u001b[0;34m)\u001b[0m\u001b[0;34m\u001b[0m\u001b[0m\n\u001b[1;32m      7\u001b[0m \u001b[0mplt\u001b[0m\u001b[0;34m.\u001b[0m\u001b[0mplot\u001b[0m\u001b[0;34m(\u001b[0m\u001b[0menergias\u001b[0m\u001b[0;34m[\u001b[0m\u001b[0;36m90\u001b[0m\u001b[0;34m:\u001b[0m\u001b[0;36m110\u001b[0m\u001b[0;34m]\u001b[0m\u001b[0;34m,\u001b[0m \u001b[0mespectro_Cesio0mmAl\u001b[0m\u001b[0;34m[\u001b[0m\u001b[0;36m90\u001b[0m\u001b[0;34m:\u001b[0m\u001b[0;36m110\u001b[0m\u001b[0;34m]\u001b[0m\u001b[0;34m,\u001b[0m \u001b[0mlabel\u001b[0m\u001b[0;34m=\u001b[0m\u001b[0;34m'Intervalo ajustado'\u001b[0m\u001b[0;34m)\u001b[0m\u001b[0;34m\u001b[0m\u001b[0m\n",
      "\u001b[0;31mNameError\u001b[0m: name 'energias' is not defined"
     ]
    },
    {
     "data": {
      "text/plain": [
       "<Figure size 432x288 with 0 Axes>"
      ]
     },
     "metadata": {},
     "output_type": "display_data"
    }
   ],
   "source": [
    "#Realizamos el ajuste por una gaussiana al fotopico del espectro del Cesio (ojalá que salga 622 keV)\n",
    "\n",
    "plt.figure()\n",
    "\n",
    "plt.plot(energias, espectro_Cesio0mmAl, label = 'Espectro')\n",
    "plt.xlim(0,1500)\n",
    "plt.plot(energias[90:110], espectro_Cesio0mmAl[90:110], label='Intervalo ajustado')\n",
    "\n",
    "\n",
    "#Ajuste del fotopico\n",
    "\n",
    "params, params_covariance = optimize.curve_fit(test_func,energias[90:110] ,espectro_Cesio0mmAl[90:110], p0=[800, 660, 30])\n",
    "a, mu, sigma = params\n",
    "\n",
    "\n",
    "plt.axvline(mu, alpha = 0.5, linestyle='--', color = 'red', label = 'Media = {:.2f} keV'.format(mu))\n",
    "plt.axvspan(mu-sigma,mu, alpha = 0.3, color = 'green', label = 'Varianza = {:.2f}'.format(sigma))\n",
    "plt.axvspan(mu,mu+sigma, alpha = 0.3, color = 'green' )\n",
    "plt.legend()\n",
    "\n",
    "plt.title('Espectro de Cs-137 \\n')\n",
    "plt.xlabel('Energías en keV')\n",
    "#plt.xscale('log')\n",
    "\n",
    "print('La energía medida para el fotopico es {:.2f} keV con una varianza de {:.2f} keV'.format(mu,sigma))\n",
    "print('La resolución en energías del espectrómetro es {:.2f} %'.format(sigma/mu*100))\n",
    "print('La altura del fotopico en su valor medio es a = {:.2f}'.format(a))\n",
    "\n",
    "plt.savefig('FotopicoCesio')"
   ]
  },
  {
   "cell_type": "code",
   "execution_count": 9,
   "metadata": {},
   "outputs": [
    {
     "ename": "NameError",
     "evalue": "name 'energias' is not defined",
     "output_type": "error",
     "traceback": [
      "\u001b[0;31m---------------------------------------------------------------------------\u001b[0m",
      "\u001b[0;31mNameError\u001b[0m                                 Traceback (most recent call last)",
      "\u001b[0;32m<ipython-input-9-4175d4487416>\u001b[0m in \u001b[0;36m<module>\u001b[0;34m()\u001b[0m\n\u001b[1;32m      3\u001b[0m \u001b[0mplt\u001b[0m\u001b[0;34m.\u001b[0m\u001b[0mfigure\u001b[0m\u001b[0;34m(\u001b[0m\u001b[0;34m)\u001b[0m\u001b[0;34m\u001b[0m\u001b[0m\n\u001b[1;32m      4\u001b[0m \u001b[0;34m\u001b[0m\u001b[0m\n\u001b[0;32m----> 5\u001b[0;31m \u001b[0mplt\u001b[0m\u001b[0;34m.\u001b[0m\u001b[0mplot\u001b[0m\u001b[0;34m(\u001b[0m\u001b[0menergias\u001b[0m\u001b[0;34m,\u001b[0m \u001b[0mespectro_Cesio0mmAl\u001b[0m\u001b[0;34m,\u001b[0m \u001b[0mlabel\u001b[0m \u001b[0;34m=\u001b[0m \u001b[0;34m'Espectro'\u001b[0m\u001b[0;34m)\u001b[0m\u001b[0;34m\u001b[0m\u001b[0m\n\u001b[0m\u001b[1;32m      6\u001b[0m \u001b[0mplt\u001b[0m\u001b[0;34m.\u001b[0m\u001b[0mxlim\u001b[0m\u001b[0;34m(\u001b[0m\u001b[0;36m0\u001b[0m\u001b[0;34m,\u001b[0m\u001b[0;36m1500\u001b[0m\u001b[0;34m)\u001b[0m\u001b[0;34m\u001b[0m\u001b[0m\n\u001b[1;32m      7\u001b[0m \u001b[0mplt\u001b[0m\u001b[0;34m.\u001b[0m\u001b[0mplot\u001b[0m\u001b[0;34m(\u001b[0m\u001b[0menergias\u001b[0m\u001b[0;34m[\u001b[0m\u001b[0;36m57\u001b[0m\u001b[0;34m:\u001b[0m\u001b[0;36m71\u001b[0m\u001b[0;34m]\u001b[0m\u001b[0;34m,\u001b[0m \u001b[0mespectro_Cesio0mmAl\u001b[0m\u001b[0;34m[\u001b[0m\u001b[0;36m57\u001b[0m\u001b[0;34m:\u001b[0m\u001b[0;36m71\u001b[0m\u001b[0;34m]\u001b[0m\u001b[0;34m,\u001b[0m \u001b[0mlabel\u001b[0m\u001b[0;34m=\u001b[0m\u001b[0;34m'Intervalo ajustado'\u001b[0m\u001b[0;34m)\u001b[0m\u001b[0;34m\u001b[0m\u001b[0m\n",
      "\u001b[0;31mNameError\u001b[0m: name 'energias' is not defined"
     ]
    },
    {
     "data": {
      "text/plain": [
       "<Figure size 432x288 with 0 Axes>"
      ]
     },
     "metadata": {},
     "output_type": "display_data"
    }
   ],
   "source": [
    "#Ajuste del borde Compton\n",
    "\n",
    "plt.figure()\n",
    "\n",
    "plt.plot(energias, espectro_Cesio0mmAl, label = 'Espectro')\n",
    "plt.xlim(0,1500)\n",
    "plt.plot(energias[57:71], espectro_Cesio0mmAl[57:71], label='Intervalo ajustado')\n",
    "\n",
    "\n",
    "params_compt, params_covariance = optimize.curve_fit(test_func,energias[57:71] ,espectro_Cesio0mmAl[57:71], p0=[800, 450, 30])\n",
    "a_compt, mu_compt, sigma_compt = params_compt\n",
    "\n",
    "\n",
    "plt.axvline(mu_compt, alpha = 0.5, linestyle='--', color = 'red', label = 'Media = {:.2f} keV'.format(mu_compt))\n",
    "plt.axvspan(mu_compt-sigma_compt,mu_compt, alpha = 0.3, color = 'green', label = 'Varianza = {:.2f}'.format(sigma_compt))\n",
    "plt.axvspan(mu_compt,mu_compt+sigma_compt, alpha = 0.3, color = 'green' )\n",
    "plt.legend()\n",
    "\n",
    "plt.title('Espectro de Cs-137 \\n')\n",
    "plt.xlabel('Energías en keV')\n",
    "#plt.xscale('log')\n",
    "\n",
    "print('La energía medida para el borde Compton es {:.2f} keV con una varianza de {:.2f} keV'.format(mu_compt,sigma_compt))\n",
    "print('La resolución en energías del espectrómetro es {:.2f} %'.format(sigma_compt/mu_compt*100))\n",
    "print('La altura del fotopico en su valor medio es a = {:.2f}'.format(a_compt))\n",
    "\n",
    "plt.savefig('BordeComptonCesio')\n",
    "\n",
    "\n",
    "\n"
   ]
  },
  {
   "cell_type": "markdown",
   "metadata": {},
   "source": [
    "Para el cálculo de la resolución en energía del espectrómetro se ha utilizado la información encontrada en :\n",
    "\n",
    "4.2 Fundamentos de la detección de partículas (diapositiva 26)\n",
    "\n",
    "                                    R = 2.35*sigma/mu"
   ]
  },
  {
   "cell_type": "markdown",
   "metadata": {},
   "source": [
    "-> Estudiar la absorción en diversos materiales. Para ello analizar cómo varía la amplitud del fotopico del Cs-137 cuando se interponen diferentes espesores de aluminio y plomo. Representar el logaritmo de la intensidad (área del fotopico) frente al espesor y obtener las secciones eficaces de interacción en estos materiales a la energía correspondiente. Comparar los resultados con los valores teóricos de las secciones eficaces de los distintos procesos. Discutir los errores de las medidas."
   ]
  },
  {
   "cell_type": "markdown",
   "metadata": {},
   "source": [
    "El algoritmo a aplicar para este apartado es el siguiente:\n",
    "\n",
    "1. Ajustamos cada uno de los fotopicos de los espectros con los distintos absorbentes obteniendo la amplitud, media y varianza de la gaussiana\n",
    "\n",
    "2. Con estos parámetros calculamos el área de la gaussian (su logaritmo es la intensidad) gracias a la relación conocida\n",
    "\n",
    "                Area_gaussiana = \\int a*exp(-1/(2*sigma^2)*(x-mu)^2) = sqrt(2*pi)*a*abs(sigma)\n",
    "                \n",
    "3. Representamos log(Area) vs espesor absorbente, la pendiente será el coeficiente de atenuación lineal mu\n",
    "\n",
    "4. Calculamos la sección eficaz "
   ]
  },
  {
   "cell_type": "code",
   "execution_count": 10,
   "metadata": {},
   "outputs": [
    {
     "ename": "FileNotFoundError",
     "evalue": "[Errno 2] No such file or directory: '/home/davsan06/Documentos/PrácticasASTROPARTÍCULAS/Espectros15marzo/Cs2mmAl.txt'",
     "output_type": "error",
     "traceback": [
      "\u001b[0;31m---------------------------------------------------------------------------\u001b[0m",
      "\u001b[0;31mFileNotFoundError\u001b[0m                         Traceback (most recent call last)",
      "\u001b[0;32m<ipython-input-10-be2d063de6ed>\u001b[0m in \u001b[0;36m<module>\u001b[0;34m()\u001b[0m\n\u001b[1;32m      1\u001b[0m \u001b[0;31m#Cargamos todos los espectros corregidos por el fondo\u001b[0m\u001b[0;34m\u001b[0m\u001b[0;34m\u001b[0m\u001b[0m\n\u001b[1;32m      2\u001b[0m \u001b[0;34m\u001b[0m\u001b[0m\n\u001b[0;32m----> 3\u001b[0;31m \u001b[0mespectro_Cesio2mmAl\u001b[0m \u001b[0;34m=\u001b[0m \u001b[0mascii\u001b[0m\u001b[0;34m.\u001b[0m\u001b[0mread\u001b[0m\u001b[0;34m(\u001b[0m\u001b[0;34m'/home/davsan06/Documentos/PrácticasASTROPARTÍCULAS/Espectros15marzo/Cs2mmAl.txt'\u001b[0m\u001b[0;34m)\u001b[0m\u001b[0;34m\u001b[0m\u001b[0m\n\u001b[0m\u001b[1;32m      4\u001b[0m \u001b[0mespectro_Cesio2mmAl\u001b[0m \u001b[0;34m=\u001b[0m \u001b[0mespectro_Cesio2mmAl\u001b[0m\u001b[0;34m[\u001b[0m\u001b[0;34m'0'\u001b[0m\u001b[0;34m]\u001b[0m \u001b[0;34m-\u001b[0m \u001b[0mbackground\u001b[0m\u001b[0;34m[\u001b[0m\u001b[0;34m'0'\u001b[0m\u001b[0;34m]\u001b[0m\u001b[0;34m\u001b[0m\u001b[0m\n\u001b[1;32m      5\u001b[0m \u001b[0;34m\u001b[0m\u001b[0m\n",
      "\u001b[0;32m~/anaconda3/lib/python3.7/site-packages/astropy/io/ascii/ui.py\u001b[0m in \u001b[0;36mread\u001b[0;34m(table, guess, **kwargs)\u001b[0m\n\u001b[1;32m    349\u001b[0m         \u001b[0;31m# through below to the non-guess way so that any problems result in a\u001b[0m\u001b[0;34m\u001b[0m\u001b[0;34m\u001b[0m\u001b[0m\n\u001b[1;32m    350\u001b[0m         \u001b[0;31m# more useful traceback.\u001b[0m\u001b[0;34m\u001b[0m\u001b[0;34m\u001b[0m\u001b[0m\n\u001b[0;32m--> 351\u001b[0;31m         \u001b[0mdat\u001b[0m \u001b[0;34m=\u001b[0m \u001b[0m_guess\u001b[0m\u001b[0;34m(\u001b[0m\u001b[0mtable\u001b[0m\u001b[0;34m,\u001b[0m \u001b[0mnew_kwargs\u001b[0m\u001b[0;34m,\u001b[0m \u001b[0mformat\u001b[0m\u001b[0;34m,\u001b[0m \u001b[0mfast_reader\u001b[0m\u001b[0;34m)\u001b[0m\u001b[0;34m\u001b[0m\u001b[0m\n\u001b[0m\u001b[1;32m    352\u001b[0m         \u001b[0;32mif\u001b[0m \u001b[0mdat\u001b[0m \u001b[0;32mis\u001b[0m \u001b[0;32mNone\u001b[0m\u001b[0;34m:\u001b[0m\u001b[0;34m\u001b[0m\u001b[0m\n\u001b[1;32m    353\u001b[0m             \u001b[0mguess\u001b[0m \u001b[0;34m=\u001b[0m \u001b[0;32mFalse\u001b[0m\u001b[0;34m\u001b[0m\u001b[0m\n",
      "\u001b[0;32m~/anaconda3/lib/python3.7/site-packages/astropy/io/ascii/ui.py\u001b[0m in \u001b[0;36m_guess\u001b[0;34m(table, read_kwargs, format, fast_reader)\u001b[0m\n\u001b[1;32m    495\u001b[0m             \u001b[0mreader\u001b[0m \u001b[0;34m=\u001b[0m \u001b[0mget_reader\u001b[0m\u001b[0;34m(\u001b[0m\u001b[0;34m**\u001b[0m\u001b[0mguess_kwargs\u001b[0m\u001b[0;34m)\u001b[0m\u001b[0;34m\u001b[0m\u001b[0m\n\u001b[1;32m    496\u001b[0m             \u001b[0mreader\u001b[0m\u001b[0;34m.\u001b[0m\u001b[0mguessing\u001b[0m \u001b[0;34m=\u001b[0m \u001b[0;32mTrue\u001b[0m\u001b[0;34m\u001b[0m\u001b[0m\n\u001b[0;32m--> 497\u001b[0;31m             \u001b[0mdat\u001b[0m \u001b[0;34m=\u001b[0m \u001b[0mreader\u001b[0m\u001b[0;34m.\u001b[0m\u001b[0mread\u001b[0m\u001b[0;34m(\u001b[0m\u001b[0mtable\u001b[0m\u001b[0;34m)\u001b[0m\u001b[0;34m\u001b[0m\u001b[0m\n\u001b[0m\u001b[1;32m    498\u001b[0m             _read_trace.append({'kwargs': guess_kwargs,\n\u001b[1;32m    499\u001b[0m                                 \u001b[0;34m'Reader'\u001b[0m\u001b[0;34m:\u001b[0m \u001b[0mreader\u001b[0m\u001b[0;34m.\u001b[0m\u001b[0m__class__\u001b[0m\u001b[0;34m,\u001b[0m\u001b[0;34m\u001b[0m\u001b[0m\n",
      "\u001b[0;32m~/anaconda3/lib/python3.7/site-packages/astropy/io/ascii/core.py\u001b[0m in \u001b[0;36mread\u001b[0;34m(self, table)\u001b[0m\n\u001b[1;32m   1144\u001b[0m \u001b[0;34m\u001b[0m\u001b[0m\n\u001b[1;32m   1145\u001b[0m         \u001b[0;31m# Get a list of the lines (rows) in the table\u001b[0m\u001b[0;34m\u001b[0m\u001b[0;34m\u001b[0m\u001b[0m\n\u001b[0;32m-> 1146\u001b[0;31m         \u001b[0mself\u001b[0m\u001b[0;34m.\u001b[0m\u001b[0mlines\u001b[0m \u001b[0;34m=\u001b[0m \u001b[0mself\u001b[0m\u001b[0;34m.\u001b[0m\u001b[0minputter\u001b[0m\u001b[0;34m.\u001b[0m\u001b[0mget_lines\u001b[0m\u001b[0;34m(\u001b[0m\u001b[0mtable\u001b[0m\u001b[0;34m)\u001b[0m\u001b[0;34m\u001b[0m\u001b[0m\n\u001b[0m\u001b[1;32m   1147\u001b[0m \u001b[0;34m\u001b[0m\u001b[0m\n\u001b[1;32m   1148\u001b[0m         \u001b[0;31m# Set self.data.data_lines to a slice of lines contain the data rows\u001b[0m\u001b[0;34m\u001b[0m\u001b[0;34m\u001b[0m\u001b[0m\n",
      "\u001b[0;32m~/anaconda3/lib/python3.7/site-packages/astropy/io/ascii/core.py\u001b[0m in \u001b[0;36mget_lines\u001b[0;34m(self, table)\u001b[0m\n\u001b[1;32m    291\u001b[0m                     ('\\n' not in table + '' and '\\r' not in table + '')):\n\u001b[1;32m    292\u001b[0m                 with get_readable_fileobj(table,\n\u001b[0;32m--> 293\u001b[0;31m                                           encoding=self.encoding) as fileobj:\n\u001b[0m\u001b[1;32m    294\u001b[0m                     \u001b[0mtable\u001b[0m \u001b[0;34m=\u001b[0m \u001b[0mfileobj\u001b[0m\u001b[0;34m.\u001b[0m\u001b[0mread\u001b[0m\u001b[0;34m(\u001b[0m\u001b[0;34m)\u001b[0m\u001b[0;34m\u001b[0m\u001b[0m\n\u001b[1;32m    295\u001b[0m             \u001b[0mlines\u001b[0m \u001b[0;34m=\u001b[0m \u001b[0mtable\u001b[0m\u001b[0;34m.\u001b[0m\u001b[0msplitlines\u001b[0m\u001b[0;34m(\u001b[0m\u001b[0;34m)\u001b[0m\u001b[0;34m\u001b[0m\u001b[0m\n",
      "\u001b[0;32m~/anaconda3/lib/python3.7/contextlib.py\u001b[0m in \u001b[0;36m__enter__\u001b[0;34m(self)\u001b[0m\n\u001b[1;32m    110\u001b[0m         \u001b[0;32mdel\u001b[0m \u001b[0mself\u001b[0m\u001b[0;34m.\u001b[0m\u001b[0margs\u001b[0m\u001b[0;34m,\u001b[0m \u001b[0mself\u001b[0m\u001b[0;34m.\u001b[0m\u001b[0mkwds\u001b[0m\u001b[0;34m,\u001b[0m \u001b[0mself\u001b[0m\u001b[0;34m.\u001b[0m\u001b[0mfunc\u001b[0m\u001b[0;34m\u001b[0m\u001b[0m\n\u001b[1;32m    111\u001b[0m         \u001b[0;32mtry\u001b[0m\u001b[0;34m:\u001b[0m\u001b[0;34m\u001b[0m\u001b[0m\n\u001b[0;32m--> 112\u001b[0;31m             \u001b[0;32mreturn\u001b[0m \u001b[0mnext\u001b[0m\u001b[0;34m(\u001b[0m\u001b[0mself\u001b[0m\u001b[0;34m.\u001b[0m\u001b[0mgen\u001b[0m\u001b[0;34m)\u001b[0m\u001b[0;34m\u001b[0m\u001b[0m\n\u001b[0m\u001b[1;32m    113\u001b[0m         \u001b[0;32mexcept\u001b[0m \u001b[0mStopIteration\u001b[0m\u001b[0;34m:\u001b[0m\u001b[0;34m\u001b[0m\u001b[0m\n\u001b[1;32m    114\u001b[0m             \u001b[0;32mraise\u001b[0m \u001b[0mRuntimeError\u001b[0m\u001b[0;34m(\u001b[0m\u001b[0;34m\"generator didn't yield\"\u001b[0m\u001b[0;34m)\u001b[0m \u001b[0;32mfrom\u001b[0m \u001b[0;32mNone\u001b[0m\u001b[0;34m\u001b[0m\u001b[0m\n",
      "\u001b[0;32m~/anaconda3/lib/python3.7/site-packages/astropy/utils/data.py\u001b[0m in \u001b[0;36mget_readable_fileobj\u001b[0;34m(name_or_obj, encoding, cache, show_progress, remote_timeout)\u001b[0m\n\u001b[1;32m    191\u001b[0m                 \u001b[0mname_or_obj\u001b[0m\u001b[0;34m,\u001b[0m \u001b[0mcache\u001b[0m\u001b[0;34m=\u001b[0m\u001b[0mcache\u001b[0m\u001b[0;34m,\u001b[0m \u001b[0mshow_progress\u001b[0m\u001b[0;34m=\u001b[0m\u001b[0mshow_progress\u001b[0m\u001b[0;34m,\u001b[0m\u001b[0;34m\u001b[0m\u001b[0m\n\u001b[1;32m    192\u001b[0m                 timeout=remote_timeout)\n\u001b[0;32m--> 193\u001b[0;31m         \u001b[0mfileobj\u001b[0m \u001b[0;34m=\u001b[0m \u001b[0mio\u001b[0m\u001b[0;34m.\u001b[0m\u001b[0mFileIO\u001b[0m\u001b[0;34m(\u001b[0m\u001b[0mname_or_obj\u001b[0m\u001b[0;34m,\u001b[0m \u001b[0;34m'r'\u001b[0m\u001b[0;34m)\u001b[0m\u001b[0;34m\u001b[0m\u001b[0m\n\u001b[0m\u001b[1;32m    194\u001b[0m         \u001b[0;32mif\u001b[0m \u001b[0mis_url\u001b[0m \u001b[0;32mand\u001b[0m \u001b[0;32mnot\u001b[0m \u001b[0mcache\u001b[0m\u001b[0;34m:\u001b[0m\u001b[0;34m\u001b[0m\u001b[0m\n\u001b[1;32m    195\u001b[0m             \u001b[0mdelete_fds\u001b[0m\u001b[0;34m.\u001b[0m\u001b[0mappend\u001b[0m\u001b[0;34m(\u001b[0m\u001b[0mfileobj\u001b[0m\u001b[0;34m)\u001b[0m\u001b[0;34m\u001b[0m\u001b[0m\n",
      "\u001b[0;31mFileNotFoundError\u001b[0m: [Errno 2] No such file or directory: '/home/davsan06/Documentos/PrácticasASTROPARTÍCULAS/Espectros15marzo/Cs2mmAl.txt'"
     ]
    }
   ],
   "source": [
    "#Cargamos todos los espectros corregidos por el fondo\n",
    "\n",
    "espectro_Cesio2mmAl = ascii.read('/home/davsan06/Documentos/PrácticasASTROPARTÍCULAS/Espectros15marzo/Cs2mmAl.txt')\n",
    "espectro_Cesio2mmAl = espectro_Cesio2mmAl['0'] - background['0']\n",
    "\n",
    "espectro_Cesio4mmAl = ascii.read('/home/davsan06/Documentos/PrácticasASTROPARTÍCULAS/Espectros15marzo/Cs4mmAl.txt')\n",
    "espectro_Cesio4mmAl = espectro_Cesio4mmAl['0'] - background['0']\n",
    "\n",
    "espectro_Cesio6mmAl = ascii.read('/home/davsan06/Documentos/PrácticasASTROPARTÍCULAS/Espectros15marzo/Cs6mmAl.txt')\n",
    "espectro_Cesio6mmAl = espectro_Cesio6mmAl['0'] - background['0']\n",
    "\n",
    "espectro_Cesio8mmAl = ascii.read('/home/davsan06/Documentos/PrácticasASTROPARTÍCULAS/Espectros15marzo/Cs8mmAl.txt')\n",
    "espectro_Cesio8mmAl = espectro_Cesio8mmAl['0'] - background['0']"
   ]
  },
  {
   "cell_type": "code",
   "execution_count": null,
   "metadata": {},
   "outputs": [],
   "source": [
    "#Absorbente de aluminio 0 mm\n",
    "\n",
    "plt.figure()\n",
    "\n",
    "plt.title('Espectro de Cs-137 -> 0 mm AL \\n')\n",
    "\n",
    "plt.plot(energias, espectro_Cesio0mmAl, label = 'Espectro')\n",
    "plt.plot(energias[90:110], espectro_Cesio0mmAl[90:110], label = 'Intervalo ajustado')\n",
    "\n",
    "plt.xlim(0,1500)\n",
    "\n",
    "#Ajuste del fotopico\n",
    "\n",
    "params, params_covariance = optimize.curve_fit(test_func,energias[90:110] ,espectro_Cesio0mmAl[90:110], p0=[800, 660, 30])\n",
    "a, mu, sigma = params\n",
    "\n",
    "\n",
    "plt.axvline(mu,linestyle='--', color = 'red', alpha = 0.5)\n",
    "plt.axvspan(mu - sigma, mu + sigma , facecolor='g', alpha=0.1)\n",
    "\n",
    "plt.xlabel('Energías en keV')\n",
    "\n",
    "area_0mm = np.sqrt(2*np.pi)*a*np.abs(sigma)\n",
    "\n",
    "plt.axvline(mu, alpha = 0.5, linestyle='--', color = 'red', label = 'Media = {:.2f} keV'.format(mu))\n",
    "plt.axvspan(mu-sigma,mu, alpha = 0.3, color = 'green', label = 'Varianza = {:.2f}'.format(sigma))\n",
    "plt.axvspan(mu,mu+sigma, alpha = 0.3, color = 'green' )\n",
    "plt.legend()\n",
    "\n",
    "print('La energía medida para el fotopico es {:.2f} keV con una varianza de {:.2f} keV'.format(mu,sigma))\n",
    "print('La altura del fotopico en su valor medio es a = {:.2f}'.format(a))\n",
    "print('El área de la gaussiana que ajusta el fotopico es {:.2f}'.format(area_0mm))"
   ]
  },
  {
   "cell_type": "code",
   "execution_count": null,
   "metadata": {},
   "outputs": [],
   "source": [
    "#Absorbente de aluminio 2 mm\n",
    "\n",
    "plt.figure()\n",
    "\n",
    "plt.title('Espectro Cs-137 -> 2mm Al \\n')\n",
    "\n",
    "plt.plot(energias, espectro_Cesio2mmAl, label = 'Espectro')\n",
    "plt.plot(energias[87:107], espectro_Cesio2mmAl[87:107], label = 'Intervalo ajustado')\n",
    "\n",
    "plt.xlim(0,1500)\n",
    "\n",
    "#Ajuste del fotopico\n",
    "\n",
    "params, params_covariance = optimize.curve_fit(test_func,energias[87:107] ,espectro_Cesio2mmAl[87:107], p0=[800, 660, 30])\n",
    "a, mu, sigma = params\n",
    "\n",
    "\n",
    "plt.axvline(mu, alpha = 0.5, linestyle='--', color = 'red', label = 'Media = {:.2f} keV'.format(mu))\n",
    "plt.axvspan(mu-sigma,mu, alpha = 0.3, color = 'green', label = 'Varianza = {:.2f}'.format(sigma))\n",
    "plt.axvspan(mu,mu+sigma, alpha = 0.3, color = 'green' )\n",
    "plt.legend()\n",
    "\n",
    "plt.xlabel('Energías en keV')\n",
    "\n",
    "area_2mm = np.sqrt(2*np.pi)*a*np.abs(sigma)\n",
    "\n",
    "print('La energía medida para el fotopico es {:.2f} keV con una varianza de {:.2f} keV'.format(mu,sigma))\n",
    "print('La altura del fotopico en su valor medio es a = {:.2f}'.format(a))\n",
    "print('El área de la gaussiana que ajusta el fotopico es {:.2f}'.format(area_2mm))\n",
    "\n",
    "plt.savefig('FotopicoCesio2mmAl')"
   ]
  },
  {
   "cell_type": "code",
   "execution_count": null,
   "metadata": {},
   "outputs": [],
   "source": [
    "#Absorbente de aluminio 4 mm\n",
    "\n",
    "plt.figure()\n",
    "\n",
    "plt.title('Espectro Cs-137 -> 4mm Al \\n')\n",
    "\n",
    "plt.plot(energias, espectro_Cesio4mmAl, label = 'Espectro')\n",
    "plt.plot(energias[85:106], espectro_Cesio4mmAl[85:106], label = 'Intervalo ajustado')\n",
    "\n",
    "plt.xlim(0,1500)\n",
    "\n",
    "#Ajuste del fotopico\n",
    "\n",
    "params, params_covariance = optimize.curve_fit(test_func,energias[85:106] ,espectro_Cesio4mmAl[85:106], p0=[800, 660, 30])\n",
    "a, mu, sigma = params\n",
    "\n",
    "\n",
    "plt.axvline(mu, alpha = 0.5, linestyle='--', color = 'red', label = 'Media = {:.2f} keV'.format(mu))\n",
    "plt.axvspan(mu-sigma,mu, alpha = 0.3, color = 'green', label = 'Varianza = {:.2f}'.format(sigma))\n",
    "plt.axvspan(mu,mu+sigma, alpha = 0.3, color = 'green' )\n",
    "plt.legend()\n",
    "\n",
    "plt.xlabel('Energías en keV')\n",
    "\n",
    "area_4mm = np.sqrt(2*np.pi)*a*np.abs(sigma)\n",
    "\n",
    "print('La energía medida para el fotopico es {:.2f} keV con una varianza de {:.2f} keV'.format(mu,sigma))\n",
    "print('La altura del fotopico en su valor medio es a = {:.2f}'.format(a))\n",
    "print('El área de la gaussiana que ajusta el fotopico es {:.2f}'.format(area_4mm))\n",
    "\n",
    "plt.savefig('FotopicoCesio4mmAl')"
   ]
  },
  {
   "cell_type": "code",
   "execution_count": null,
   "metadata": {},
   "outputs": [],
   "source": [
    "#Absorbente de aluminio 6 mm\n",
    "\n",
    "plt.figure()\n",
    "\n",
    "plt.title('Espectro Cs-137 -> 6mm Al \\n')\n",
    "\n",
    "plt.plot(energias, espectro_Cesio6mmAl, label = 'Espectro')\n",
    "plt.plot(energias[85:104], espectro_Cesio6mmAl[85:104], label = 'Intervalo ajustado')\n",
    "\n",
    "plt.xlim(0,1500)\n",
    "\n",
    "#Ajuste del fotopico\n",
    "\n",
    "params, params_covariance = optimize.curve_fit(test_func,energias[85:104] ,espectro_Cesio6mmAl[85:104], p0=[800, 660, 30])\n",
    "a, mu, sigma = params\n",
    "\n",
    "\n",
    "\n",
    "plt.axvline(mu, alpha = 0.5, linestyle='--', color = 'red', label = 'Media = {:.2f} keV'.format(mu))\n",
    "plt.axvspan(mu-sigma,mu, alpha = 0.3, color = 'green', label = 'Varianza = {:.2f}'.format(sigma))\n",
    "plt.axvspan(mu,mu+sigma, alpha = 0.3, color = 'green' )\n",
    "plt.legend()\n",
    "\n",
    "\n",
    "plt.xlabel('Energías en keV')\n",
    "\n",
    "area_6mm = np.sqrt(2*np.pi)*a*np.abs(sigma)\n",
    "\n",
    "print('La energía medida para el fotopico es {:.2f} keV con una varianza de {:.2f} keV'.format(mu,sigma))\n",
    "print('La altura del fotopico en su valor medio es a = {:.2f}'.format(a))\n",
    "print('El área de la gaussiana que ajusta el fotopico es {:.2f}'.format(area_6mm))\n",
    "\n",
    "plt.savefig('FotopicoCesio6mmAl')"
   ]
  },
  {
   "cell_type": "code",
   "execution_count": null,
   "metadata": {},
   "outputs": [],
   "source": [
    "#Absorbente de aluminio 8 mm\n",
    "\n",
    "plt.figure()\n",
    "\n",
    "plt.title('Espectro Cs-137 -> 8mm Al \\n')\n",
    "\n",
    "plt.plot(energias, espectro_Cesio8mmAl, label = 'Espectro')\n",
    "plt.plot(energias[85:104], espectro_Cesio8mmAl[85:104], label = 'Intervalo ajustado')\n",
    "\n",
    "plt.xlim(0,1500)\n",
    "\n",
    "#Ajuste del fotopico\n",
    "\n",
    "params, params_covariance = optimize.curve_fit(test_func,energias[85:104] ,espectro_Cesio8mmAl[85:104], p0=[800, 660, 30])\n",
    "a, mu, sigma = params\n",
    "\n",
    "\n",
    "plt.axvline(mu, alpha = 0.5, linestyle='--', color = 'red', label = 'Media = {:.2f} keV'.format(mu))\n",
    "plt.axvspan(mu-sigma,mu, alpha = 0.3, color = 'green', label = 'Varianza = {:.2f}'.format(sigma))\n",
    "plt.axvspan(mu,mu+sigma, alpha = 0.3, color = 'green' )\n",
    "plt.legend()\n",
    "\n",
    "\n",
    "plt.xlabel('Energías en keV')\n",
    "\n",
    "area_8mm = np.sqrt(2*np.pi)*a*np.abs(sigma)\n",
    "\n",
    "print('La energía medida para el fotopico es {:.2f} keV con una varianza de {:.2f} keV'.format(mu,sigma))\n",
    "print('La altura del fotopico en su valor medio es a = {:.2f}'.format(a))\n",
    "print('El área de la gaussiana que ajusta el fotopico es {:.2f}'.format(area_8mm))\n",
    "\n",
    "plt.savefig('FotopicoCesio8mmAl')"
   ]
  },
  {
   "cell_type": "code",
   "execution_count": null,
   "metadata": {},
   "outputs": [],
   "source": [
    "#Cargamos la función con la que vamos a ajustar los datos con una recta\n",
    "\n",
    "def recta(x, x0, pte):\n",
    "    return x0 + pte*x"
   ]
  },
  {
   "cell_type": "code",
   "execution_count": null,
   "metadata": {},
   "outputs": [],
   "source": [
    "espesor = np.array([0,2,4,6,8])\n",
    "area = np.log(np.array([area_0mm, area_2mm, area_4mm, area_6mm, area_8mm]))\n",
    "x = np.linspace(0,8, 1000)\n",
    "\n",
    "params, params_covariance = optimize.curve_fit(recta,espesor ,area, p0=[100000, 2000])\n",
    "x0, pte = params\n",
    "\n",
    "plt.scatter(espesor, area, marker= 'x')\n",
    "plt.plot(x, x0 + pte*x , 'y', label = '$\\mu$ = {:.2f} cm^-1'.format(-pte*10))\n",
    "plt.legend()\n",
    "\n",
    "plt.xlabel('Espesor del absorbente en mm')\n",
    "plt.ylabel('Área del fotopico')\n",
    "print('El coeficiente de atenuación lineal (pte) es {:.2f} cm^-1'.format(-pte*10))\n",
    "\n",
    "plt.savefig('AtenuacionAluminio')"
   ]
  },
  {
   "cell_type": "markdown",
   "metadata": {},
   "source": [
    "La sección eficaz en este regimen de energías la obtendremos como\n",
    "\n",
    "                    sigma = mu/N\n",
    "               \n",
    "donde mu es el coeficiente de atenuación lineal I = I0*exp(mu*x) que se obtiene como la pendiente de la recta y N es el número de átomos por unidad de volumen (tiene unidad de cm^-3) y se ha calculado para el ALUMINIO como\n",
    "\n",
    "densidad del aluminio = 2.7 g/cm^3\n",
    "\n",
    "masa atómica del aluminio = 26.9815 g/mol\n",
    "\n",
    "Numero de Avogadro = 6.022*10^23\n",
    "\n",
    "N = 2.7x6.022x10^23/26.9815 = 6.02613*10^22 atomos/cm^3"
   ]
  },
  {
   "cell_type": "code",
   "execution_count": null,
   "metadata": {},
   "outputs": [],
   "source": [
    "N = 2.76*(6.022*10**23)/26.9815\n",
    "print(N)\n",
    "seccion_eficaz = 10*np.abs(pte)/N\n",
    "\n",
    "print('La sección eficaz en este rango de energías es {:.30f} cm^2'.format(seccion_eficaz))"
   ]
  },
  {
   "cell_type": "markdown",
   "metadata": {},
   "source": [
    "# Absorbente: PLOMO"
   ]
  },
  {
   "cell_type": "code",
   "execution_count": null,
   "metadata": {},
   "outputs": [],
   "source": [
    "#Carga de los datos\n",
    "\n",
    "espectro_Cesio0mmPb = ascii.read('/home/davsan06/Documentos/PrácticasASTROPARTÍCULAS/Espectros15marzo/Csnoabsorbente.txt')\n",
    "espectro_Cesio0mmPb = espectro_Cesio0mmPb['0'] - background['0']\n",
    "\n",
    "espectro_Cesio2mmPb = ascii.read('/home/davsan06/Documentos/PrácticasASTROPARTÍCULAS/Espectros15marzo/Cs2mmPl.txt')\n",
    "espectro_Cesio2mmPb = espectro_Cesio2mmPb['0'] - background['0']\n",
    "\n",
    "espectro_Cesio4mmPb = ascii.read('/home/davsan06/Documentos/PrácticasASTROPARTÍCULAS/Espectros15marzo/Cs4mmPl.txt')\n",
    "espectro_Cesio4mmPb = espectro_Cesio4mmPb['0'] - background['0']\n",
    "\n",
    "espectro_Cesio6mmPb = ascii.read('/home/davsan06/Documentos/PrácticasASTROPARTÍCULAS/Espectros15marzo/Cs6mmPl.txt')\n",
    "espectro_Cesio6mmPb = espectro_Cesio6mmPb['0'] - background['0']\n",
    "\n",
    "espectro_Cesio8mmPb = ascii.read('/home/davsan06/Documentos/PrácticasASTROPARTÍCULAS/Espectros15marzo/Cs8mmPl.txt')\n",
    "espectro_Cesio8mmPb = espectro_Cesio8mmPb['0'] - background['0']"
   ]
  },
  {
   "cell_type": "code",
   "execution_count": null,
   "metadata": {},
   "outputs": [],
   "source": [
    "#Absorbente de plomo 0 mm\n",
    "\n",
    "plt.figure()\n",
    "\n",
    "plt.title('Espectro de Cs-137 -> 0 mm Pb \\n')\n",
    "\n",
    "plt.plot(energias, espectro_Cesio0mmPb, label = 'Espectro')\n",
    "plt.plot(energias[90:110], espectro_Cesio0mmPb[90:110], label = 'Intervalo ajustado')\n",
    "\n",
    "plt.xlim(0,1500)\n",
    "\n",
    "#Ajuste del fotopico\n",
    "\n",
    "params, params_covariance = optimize.curve_fit(test_func,energias[90:110] ,espectro_Cesio0mmPb[90:110], p0=[800, 660, 30])\n",
    "a, mu, sigma = params\n",
    "\n",
    "\n",
    "plt.axvline(mu,linestyle='--', color = 'red', alpha = 0.5)\n",
    "plt.axvspan(mu - sigma, mu + sigma , facecolor='g', alpha=0.1)\n",
    "\n",
    "plt.xlabel('Energías en keV')\n",
    "\n",
    "area_0mm_Pb = np.sqrt(2*np.pi)*a*np.abs(sigma)\n",
    "\n",
    "plt.axvline(mu, alpha = 0.5, linestyle='--', color = 'red', label = 'Media = {:.2f} keV'.format(mu))\n",
    "plt.axvspan(mu-sigma,mu, alpha = 0.3, color = 'green', label = 'Varianza = {:.2f}'.format(sigma))\n",
    "plt.axvspan(mu,mu+sigma, alpha = 0.3, color = 'green' )\n",
    "plt.legend()\n",
    "\n",
    "print('La energía medida para el fotopico es {:.2f} keV con una varianza de {:.2f} keV'.format(mu,sigma))\n",
    "print('La altura del fotopico en su valor medio es a = {:.2f}'.format(a))\n",
    "print('El área de la gaussiana que ajusta el fotopico es {:.2f}'.format(area_0mm_Pb))"
   ]
  },
  {
   "cell_type": "code",
   "execution_count": null,
   "metadata": {},
   "outputs": [],
   "source": [
    "#Absorbente de plomo 2 mm\n",
    "\n",
    "plt.figure()\n",
    "\n",
    "plt.title('Espectro Cs-137 -> 2mm Pb \\n')\n",
    "\n",
    "plt.plot(energias, espectro_Cesio2mmPb, label = 'Espectro')\n",
    "plt.plot(energias[89:102], espectro_Cesio2mmPb[89:102], label = 'Intervalo ajustado')\n",
    "\n",
    "plt.xlim(0,1500)\n",
    "\n",
    "#Ajuste del fotopico\n",
    "\n",
    "params, params_covariance = optimize.curve_fit(test_func,energias[89:102] ,espectro_Cesio0mmPb[89:102], p0=[800, 660, 30])\n",
    "a, mu, sigma = params\n",
    "\n",
    "\n",
    "plt.axvline(mu, alpha = 0.5, linestyle='--', color = 'red', label = 'Media = {:.2f} keV'.format(mu))\n",
    "plt.axvspan(mu-sigma,mu, alpha = 0.3, color = 'green', label = 'Varianza = {:.2f}'.format(sigma))\n",
    "plt.axvspan(mu,mu+sigma, alpha = 0.3, color = 'green' )\n",
    "plt.legend()\n",
    "\n",
    "plt.xlabel('Energías en keV')\n",
    "\n",
    "area_2mm_Pb = np.sqrt(2*np.pi)*a*np.abs(sigma)\n",
    "\n",
    "print('La energía medida para el fotopico es {:.2f} keV con una varianza de {:.2f} keV'.format(mu,sigma))\n",
    "print('La altura del fotopico en su valor medio es a = {:.2f}'.format(a))\n",
    "print('El área de la gaussiana que ajusta el fotopico es {:.2f}'.format(area_2mm_Pb))\n",
    "\n",
    "plt.savefig('FotopicoCesio2mmPb')"
   ]
  },
  {
   "cell_type": "code",
   "execution_count": null,
   "metadata": {},
   "outputs": [],
   "source": [
    "#Absorbente de plomo 4 mm\n",
    "\n",
    "plt.figure()\n",
    "\n",
    "plt.title('Espectro Cs-137 -> 4mm Pb \\n')\n",
    "\n",
    "plt.plot(energias, espectro_Cesio4mmPb, label = 'Espectro')\n",
    "plt.plot(energias[87:102], espectro_Cesio4mmPb[87:102], label = 'Intervalo ajustado')\n",
    "\n",
    "plt.xlim(0,1500)\n",
    "\n",
    "#Ajuste del fotopico\n",
    "\n",
    "params, params_covariance = optimize.curve_fit(test_func,energias[87:102] ,espectro_Cesio4mmPb[87:102], p0=[800, 660, 30])\n",
    "a, mu, sigma = params\n",
    "\n",
    "\n",
    "plt.axvline(mu, alpha = 0.5, linestyle='--', color = 'red', label = 'Media = {:.2f} keV'.format(mu))\n",
    "plt.axvspan(mu-sigma,mu, alpha = 0.3, color = 'green', label = 'Varianza = {:.2f}'.format(sigma))\n",
    "plt.axvspan(mu,mu+sigma, alpha = 0.3, color = 'green' )\n",
    "plt.legend()\n",
    "\n",
    "plt.xlabel('Energías en keV')\n",
    "\n",
    "area_4mm_Pb = np.sqrt(2*np.pi)*a*np.abs(sigma)\n",
    "\n",
    "print('La energía medida para el fotopico es {:.2f} keV con una varianza de {:.2f} keV'.format(mu,sigma))\n",
    "print('La altura del fotopico en su valor medio es a = {:.2f}'.format(a))\n",
    "print('El área de la gaussiana que ajusta el fotopico es {:.2f}'.format(area_4mm_Pb))\n",
    "\n",
    "plt.savefig('FotopicoCesio4mmPb')"
   ]
  },
  {
   "cell_type": "code",
   "execution_count": null,
   "metadata": {},
   "outputs": [],
   "source": [
    "#Absorbente de plomo 6 mm\n",
    "\n",
    "plt.figure()\n",
    "\n",
    "plt.title('Espectro Cs-137 -> 6mm Pb \\n')\n",
    "\n",
    "plt.plot(energias, espectro_Cesio6mmPb, label = 'Espectro')\n",
    "plt.plot(energias[85:100], espectro_Cesio6mmPb[85:100], label = 'Intervalo ajustado')\n",
    "\n",
    "plt.xlim(0,1500)\n",
    "\n",
    "#Ajuste del fotopico\n",
    "\n",
    "params, params_covariance = optimize.curve_fit(test_func,energias[85:100] ,espectro_Cesio6mmPb[85:100], p0=[800, 660, 30])\n",
    "a, mu, sigma = params\n",
    "\n",
    "\n",
    "\n",
    "plt.axvline(mu, alpha = 0.5, linestyle='--', color = 'red', label = 'Media = {:.2f} keV'.format(mu))\n",
    "plt.axvspan(mu-sigma,mu, alpha = 0.3, color = 'green', label = 'Varianza = {:.2f}'.format(sigma))\n",
    "plt.axvspan(mu,mu+sigma, alpha = 0.3, color = 'green' )\n",
    "plt.legend()\n",
    "\n",
    "\n",
    "plt.xlabel('Energías en keV')\n",
    "\n",
    "area_6mm_Pb = np.sqrt(2*np.pi)*a*np.abs(sigma)\n",
    "\n",
    "print('La energía medida para el fotopico es {:.2f} keV con una varianza de {:.2f} keV'.format(mu,sigma))\n",
    "print('La altura del fotopico en su valor medio es a = {:.2f}'.format(a))\n",
    "print('El área de la gaussiana que ajusta el fotopico es {:.2f}'.format(area_6mm_Pb))\n",
    "\n",
    "plt.savefig('FotopicoCesio6mmPb')"
   ]
  },
  {
   "cell_type": "code",
   "execution_count": null,
   "metadata": {},
   "outputs": [],
   "source": [
    "#Absorbente de plomo 8 mm\n",
    "\n",
    "plt.figure()\n",
    "\n",
    "plt.title('Espectro Cs-137 -> 8mm Pb \\n')\n",
    "\n",
    "plt.plot(energias, espectro_Cesio8mmPb, label = 'Espectro')\n",
    "plt.plot(energias[85:100], espectro_Cesio8mmPb[85:100], label = 'Intervalo ajustado')\n",
    "\n",
    "plt.xlim(0,1500)\n",
    "\n",
    "#Ajuste del fotopico\n",
    "\n",
    "params, params_covariance = optimize.curve_fit(test_func,energias[85:100] ,espectro_Cesio8mmPb[85:100], p0=[800, 660, 30])\n",
    "a, mu, sigma = params\n",
    "\n",
    "\n",
    "plt.axvline(mu, alpha = 0.5, linestyle='--', color = 'red', label = 'Media = {:.2f} keV'.format(mu))\n",
    "plt.axvspan(mu-sigma,mu, alpha = 0.3, color = 'green', label = 'Varianza = {:.2f}'.format(sigma))\n",
    "plt.axvspan(mu,mu+sigma, alpha = 0.3, color = 'green' )\n",
    "plt.legend()\n",
    "\n",
    "\n",
    "plt.xlabel('Energías en keV')\n",
    "\n",
    "area_8mm_Pb = np.sqrt(2*np.pi)*a*np.abs(sigma)\n",
    "\n",
    "print('La energía medida para el fotopico es {:.2f} keV con una varianza de {:.2f} keV'.format(mu,sigma))\n",
    "print('La altura del fotopico en su valor medio es a = {:.2f}'.format(a))\n",
    "print('El área de la gaussiana que ajusta el fotopico es {:.2f}'.format(area_8mm_Pb))\n",
    "\n",
    "plt.savefig('FotopicoCesio8mmPb')"
   ]
  },
  {
   "cell_type": "code",
   "execution_count": null,
   "metadata": {},
   "outputs": [],
   "source": [
    "espesor = np.array([0,2,4,6,8])\n",
    "area_Pb = np.log(np.array([area_0mm_Pb, area_2mm_Pb, area_4mm_Pb, area_6mm_Pb, area_8mm_Pb]))\n",
    "x = np.linspace(0,8, 1000)\n",
    "\n",
    "params, params_covariance = optimize.curve_fit(recta,espesor ,area_Pb, p0=[100000, 2000])\n",
    "x0, pte = params\n",
    "\n",
    "plt.scatter(espesor, area_Pb, marker= 'x')\n",
    "plt.plot(x, x0 + pte*x , 'y', label = '$\\mu$ = {:.2f} cm^-1'.format(-pte*10))\n",
    "plt.legend()\n",
    "\n",
    "plt.xlabel('Espesor del absorbente en mm')\n",
    "plt.ylabel('Área del fotopico')\n",
    "print('El coeficiente de atenuación lineal (pte) es {:.2f} cm^-1'.format(-pte*10))\n",
    "\n",
    "plt.savefig('AtenuacionPlomo')"
   ]
  },
  {
   "cell_type": "markdown",
   "metadata": {},
   "source": [
    "La sección eficaz en este regimen de energías la obtendremos como\n",
    "\n",
    "                    sigma = mu/N\n",
    "               \n",
    "donde mu es el coeficiente de atenuación lineal I = I0*exp(mu*x) que se obtiene como la pendiente de la recta y N es el número de átomos por unidad de volumen (tiene unidad de cm^-3) y se ha calculado para el PLOMO como\n",
    "\n",
    "densidad del aluminio = 11.3 g/cm^3\n",
    "\n",
    "masa atómica del aluminio = 207.19 g/mol\n",
    "\n",
    "Numero de Avogadro = 6.022*10^23"
   ]
  },
  {
   "cell_type": "code",
   "execution_count": null,
   "metadata": {},
   "outputs": [],
   "source": [
    "N_Pb = 11.3*(6.022*10**23)/207.19 \n",
    "N_Pb"
   ]
  },
  {
   "cell_type": "code",
   "execution_count": null,
   "metadata": {},
   "outputs": [],
   "source": [
    "seccion_eficaz_Pb = 10*np.abs(pte)/N_Pb\n",
    "\n",
    "print('La sección eficaz en este rango de energías es {:.30f} cm^2'.format(seccion_eficaz_Pb))"
   ]
  },
  {
   "cell_type": "code",
   "execution_count": null,
   "metadata": {},
   "outputs": [],
   "source": [
    "seccion_eficaz_Pb_barn = seccion_eficaz_Pb*10**24\n",
    "print('La sección eficaz en este rango de energías es {:.2f} barn'.format(seccion_eficaz_Pb_barn))"
   ]
  },
  {
   "cell_type": "code",
   "execution_count": null,
   "metadata": {},
   "outputs": [],
   "source": []
  }
 ],
 "metadata": {
  "kernelspec": {
   "display_name": "Python 3",
   "language": "python",
   "name": "python3"
  },
  "language_info": {
   "codemirror_mode": {
    "name": "ipython",
    "version": 3
   },
   "file_extension": ".py",
   "mimetype": "text/x-python",
   "name": "python",
   "nbconvert_exporter": "python",
   "pygments_lexer": "ipython3",
   "version": "3.7.0"
  }
 },
 "nbformat": 4,
 "nbformat_minor": 2
}
